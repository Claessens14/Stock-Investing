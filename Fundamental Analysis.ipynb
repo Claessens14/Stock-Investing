{
 "cells": [
  {
   "cell_type": "code",
   "execution_count": 16,
   "metadata": {
    "collapsed": false
   },
   "outputs": [
    {
     "name": "stdout",
     "output_type": "stream",
     "text": [
      "[nltk_data] Downloading package punkt to\n",
      "[nltk_data]     /Users/JacobClaessens/nltk_data...\n",
      "[nltk_data]   Package punkt is already up-to-date!\n"
     ]
    },
    {
     "data": {
      "text/plain": [
       "True"
      ]
     },
     "execution_count": 16,
     "metadata": {},
     "output_type": "execute_result"
    }
   ],
   "source": [
    "from __future__ import absolute_import\n",
    "from __future__ import division, print_function, unicode_literals\n",
    "\n",
    "from sumy.parsers.html import HtmlParser\n",
    "from sumy.parsers.plaintext import PlaintextParser\n",
    "from sumy.nlp.tokenizers import Tokenizer\n",
    "from sumy.summarizers.lsa import LsaSummarizer as Summarizer\n",
    "from sumy.nlp.stemmers import Stemmer\n",
    "from sumy.utils import get_stop_words\n",
    "import nltk\n",
    "nltk.download('punkt')"
   ]
  },
  {
   "cell_type": "code",
   "execution_count": null,
   "metadata": {
    "collapsed": false
   },
   "outputs": [],
   "source": []
  },
  {
   "cell_type": "code",
   "execution_count": 37,
   "metadata": {
    "collapsed": false
   },
   "outputs": [
    {
     "name": "stdout",
     "output_type": "stream",
     "text": [
      "We remain committed to our lean manufacturing journey to improve efficiencies and reduce lead times, and we continue to execute our restructuring plans to achieve a more competitive cost structure.\n",
      "We've completed our review of the business, and I look forward to sharing our strategy at Investor Day on September 12 at our demonstration facility in Tinaja Hills, Arizona.\n",
      "China construction and North America gas compression continued to experience strength, and robust overhaul and maintenance activity drove higher aftermarket parts sales for both mining and well servicing equipment.\n",
      "For Latin America, sales were higher due to an increase in end user demand across several South American countries as well as favorable dealer inventory changes.\n",
      "As you can see in the chart on the bottom right-hand side of the slide, higher end user demand in North America was primarily driven by improved residential and non-residential construction.\n",
      "Fewer workdays due to holidays and vacations combined with the anticipation of colder weather typically drives sales lower in the second half.\n",
      "We continue to see strong rebuild activity in well servicing for engines, transmission, pumps, and flow iron, and new equipment deliveries are expected to increase in the second half of the year.\n",
      "As compared to 2016 at the midpoint of the range, the revised outlook reflects higher sales and revenues of about $4.5 billion or 12%, and an increase in adjusted profit per share of $1.58.\n",
      "While a number of our end markets remain challenged, we see strong demand in deliveries for China construction and North America gas compression equipment.\n",
      "Hey Amy, on page six of the press release, it shows that Cat just increased its global flexible workforce for 3500 workers in the second quarter, and I think you're up about 35% year-on-year and quarter-on-quarter.\n",
      "But yeah, there is a pretty significant margin erosion that's implied in the outlook in the back half of the year for price, for higher material cost, and then to reflect these investments that we expect to make in the business.\n",
      "Brad or Jim, do you think it has impacted your competitiveness, the fact that you have been so focused on restructuring and cost reductions and some of your competitors are well ahead of you in terms of IT initiatives?\n",
      "We hope to be worked through most of those issues by the end of the year, and it is largely workforce and supply chain that's driving – that's, I'd say, setting the pace for how quickly we can bring production up.\n",
      "Just to continue that discussion there, you mentioned a number of times the competitive price pressure you expect in the second half in construction, and you just clarified it's North America.\n",
      "And we expect, I'd say our competitors, as we continue to see the strong dollar work against us from a competitive standpoint to put additional price pressure in the back half of the year, Steve.\n"
     ]
    }
   ],
   "source": [
    "from __future__ import absolute_import\n",
    "from __future__ import division, print_function, unicode_literals\n",
    "\n",
    "from sumy.parsers.html import HtmlParser\n",
    "from sumy.parsers.plaintext import PlaintextParser\n",
    "from sumy.nlp.tokenizers import Tokenizer\n",
    "from sumy.summarizers.lsa import LsaSummarizer as Summarizer\n",
    "from sumy.nlp.stemmers import Stemmer\n",
    "from sumy.utils import get_stop_words\n",
    "\n",
    "\n",
    "LANGUAGE = \"english\"\n",
    "SENTENCES_COUNT = 15\n",
    "\n",
    "\n",
    "if __name__ == \"__main__\":\n",
    "    url = \"https://seekingalpha.com/article/4090354-caterpillar-cat-q2-2017-results-earnings-call-transcript?part=single\"\n",
    "    parser = HtmlParser.from_url(url, Tokenizer(LANGUAGE))\n",
    "    # or for plain text files\n",
    "\n",
    "    #parser = PlaintextParser.from_file(\"tryThis.txt\", Tokenizer(LANGUAGE))\n",
    "    stemmer = Stemmer(LANGUAGE)\n",
    "\n",
    "    summarizer = Summarizer(stemmer)\n",
    "    summarizer.stop_words = get_stop_words(LANGUAGE)\n",
    "\n",
    "    for sentence in summarizer(parser.document, SENTENCES_COUNT):\n",
    "        print(sentence)"
   ]
  },
  {
   "cell_type": "markdown",
   "metadata": {},
   "source": [
    "# "
   ]
  },
  {
   "cell_type": "code",
   "execution_count": null,
   "metadata": {
    "collapsed": true
   },
   "outputs": [],
   "source": []
  }
 ],
 "metadata": {
  "kernelspec": {
   "display_name": "Python 2",
   "language": "python",
   "name": "python2"
  },
  "language_info": {
   "codemirror_mode": {
    "name": "ipython",
    "version": 2
   },
   "file_extension": ".py",
   "mimetype": "text/x-python",
   "name": "python",
   "nbconvert_exporter": "python",
   "pygments_lexer": "ipython2",
   "version": "2.7.12"
  }
 },
 "nbformat": 4,
 "nbformat_minor": 2
}
